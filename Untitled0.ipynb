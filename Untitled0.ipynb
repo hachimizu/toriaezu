{
  "nbformat": 4,
  "nbformat_minor": 0,
  "metadata": {
    "colab": {
      "provenance": [],
      "include_colab_link": true
    },
    "kernelspec": {
      "name": "python3",
      "display_name": "Python 3"
    },
    "language_info": {
      "name": "python"
    }
  },
  "cells": [
    {
      "cell_type": "markdown",
      "metadata": {
        "id": "view-in-github",
        "colab_type": "text"
      },
      "source": [
        "<a href=\"https://colab.research.google.com/github/hachimizu/toriaezu/blob/main/Untitled0.ipynb\" target=\"_parent\"><img src=\"https://colab.research.google.com/assets/colab-badge.svg\" alt=\"Open In Colab\"/></a>"
      ]
    },
    {
      "cell_type": "markdown",
      "source": [
        "# 圏論とモナドについて"
      ],
      "metadata": {
        "id": "gJnFAU1sG3D1"
      }
    },
    {
      "cell_type": "markdown",
      "source": [
        "[プログラマのためのモナド入門 稲見 泰宏 | プログラマのためのモナド入門](https://www.youtube.com/watch?v=fhuAlDPgi2Q)\n",
        "\n",
        "この動画を見て圏論とモナドについてまとめようと思います。"
      ],
      "metadata": {
        "id": "e5QHte1ZG82Q"
      }
    },
    {
      "cell_type": "markdown",
      "source": [
        "# 圏論"
      ],
      "metadata": {
        "id": "QY4DSp1IBEIB"
      }
    },
    {
      "cell_type": "markdown",
      "source": [
        "圏論とは、集合である対象と集合間の関数である射である。\n",
        "\n",
        "対象はある種の事物であり、射は対象間の関係を表現する。"
      ],
      "metadata": {
        "id": "fBDhy9FOBKpO"
      }
    },
    {
      "cell_type": "markdown",
      "source": [
        "### 対象"
      ],
      "metadata": {
        "id": "zBEHXxYWIj--"
      }
    },
    {
      "cell_type": "markdown",
      "source": [
        "対象とは基本的な要素のこと。抽象的な概念であり、具体的な性質はその対象が属する圏によって異なる。\n",
        "\n",
        "集合の圏における対象は、集合そのもののこと。"
      ],
      "metadata": {
        "id": "LmTWL-S2I3Nm"
      }
    },
    {
      "cell_type": "markdown",
      "source": [
        "### 射"
      ],
      "metadata": {
        "id": "l3d_uLSbJPJb"
      }
    },
    {
      "cell_type": "markdown",
      "source": [
        "射とは対象間の関係を表現するもの。\n",
        "\n",
        "射fは一つの対象Aから別の対象Bへのmapを表します。射は始点（元）と終点（像）を持つ。\n",
        "\n",
        "射の具体的な性質もその射が属する圏によって異なる。\n",
        "\n",
        "集合の圏における射は、集合間の関数のこと。\n",
        "\n",
        "射の性質として、合成できることが挙げられる。すなわち、射fが対象Aから対象Bへ、射gが対象Bから対象Cへの写像を表すならば、その合成g◯fは対象Aから対象Cへの新たな射を定義する。"
      ],
      "metadata": {
        "id": "oP438DNwJRZE"
      }
    },
    {
      "cell_type": "markdown",
      "source": [
        "## 圏（カテゴリー）の定義"
      ],
      "metadata": {
        "id": "uHNRIR7gCCVF"
      }
    },
    {
      "cell_type": "markdown",
      "source": [
        "圏は以下の要素から構成される。\n",
        "\n",
        "1. 対象の集まり\n",
        "\n",
        "2. 射の集まり（各射には始点と終点になる対象がある。）\n",
        "\n",
        "3. 射の合成（射fがAからBへ、射gがBからCへの写像を表すならば、その合成g◯fはAからCへの射となる。）\n",
        "\n",
        "4. 各対象において恒等射（単位射）が存在する（対象がAならば、AからA）\n",
        "\n",
        "5. 結合律（すべての射f: a → b、g: b → c、h: c → dに対して、h⚪︎(g⚪︎f) = (h⚪︎g)⚪︎fが成り立つ。つまり、射の合成の順序を変えても結果は変わらない。）\n",
        "\n",
        "\n",
        "これらを満たす対象と射の集まりを圏、またはカテゴリーと呼ぶ。"
      ],
      "metadata": {
        "id": "ZTvsLThmFoT8"
      }
    },
    {
      "cell_type": "markdown",
      "source": [
        "## モナド"
      ],
      "metadata": {
        "id": "Dz7XOfsmC-hd"
      }
    },
    {
      "cell_type": "markdown",
      "source": [
        "モナドとは、圏のなかに存在する特定の対象と射の組み合わせの事を言う。\n",
        "また、モナドは自己関手と二項演算から構成される。"
      ],
      "metadata": {
        "id": "47GJV_2GHnD1"
      }
    },
    {
      "cell_type": "markdown",
      "source": [
        "## 関手(Functor)とは"
      ],
      "metadata": {
        "id": "KjndcNL3jovx"
      }
    },
    {
      "cell_type": "markdown",
      "source": [
        "圏を圏にmapすること（移すこと）。\n",
        "\n",
        "つまり、関手は、対象から対象、射から射へのmapする。\n",
        "\n",
        "\n",
        "対象から対象：もしAが一つの圏の対象であれば、関手Fはそれを別の圏の対象F(A)にマップする。\n",
        "\n",
        "射から射：もしfが一つの圏の射であれば、関手Fはそれを別の圏の射F(f)へマップする。\n",
        "![関手](https://drive.google.com/uc?id=1cbcWU55tLAvml9aZiTDoHSnjL-gabYYs)\n",
        "\n",
        "\n",
        "また、関手は射の合成の保存、恒等射の保存の性質を持つ。\n",
        "\n",
        "射の合成の保存：もしfとgが射で、その合成がg◯fであれば、その関手によるmappingも同じ合成を持つ。\n",
        "\n",
        "恒等射の保存：全ての対象に対して、その恒等射のmappingはmappingされた対象の恒等射になる。\n",
        "\n",
        "![射の合成、恒等射](https://drive.google.com/uc?id=1J2UzLoIMByr__3L2btuPnR9Z0SCVFCm5)\n",
        "\n"
      ],
      "metadata": {
        "id": "ll8RM4fajymQ"
      }
    },
    {
      "cell_type": "markdown",
      "source": [
        "# 関手圏"
      ],
      "metadata": {
        "id": "BSBB4MGaM7VA"
      }
    },
    {
      "cell_type": "markdown",
      "source": [
        "関手圏とは、１つの圏の対象が関手であり、射が自然変換である圏のこと。\n",
        "\n",
        "自然変換とは、２つの関手間の対応を表し、特定の条件を満たす。"
      ],
      "metadata": {
        "id": "LuwWwWjPTrtg"
      }
    },
    {
      "cell_type": "markdown",
      "source": [
        "## 自己関手の圏"
      ],
      "metadata": {
        "id": "RxRS4TTmRZnT"
      }
    },
    {
      "cell_type": "markdown",
      "source": [
        "### 自己関手"
      ],
      "metadata": {
        "id": "Ir1ki4KvU0p1"
      }
    },
    {
      "cell_type": "markdown",
      "source": [
        "自己関手とは、ある圏からその圏自体へのmapping（関手）のことを指す。自己関手はその圏の対象と射を、同じ圏の別の対象と射にmappingする。また、そのmappingは射の合成と恒等射の保存の性質をもつ。"
      ],
      "metadata": {
        "id": "BARjXgIQVN-7"
      }
    },
    {
      "cell_type": "markdown",
      "source": [
        "### モノイド"
      ],
      "metadata": {
        "id": "T_8Cma1YVwN3"
      }
    },
    {
      "cell_type": "markdown",
      "source": [
        "モノイドは単位元と二項演算（合成）、そして結合律の性質を持つ。\n",
        "\n",
        "二項演算（合成）：二つの元を取り、それらを組み合わせて新しい元を作る操作\n",
        "\n",
        "単位元：二項演算を通じて他のどの元と組み合わせてもその元自体を返すような特別な元\n",
        "\n",
        "結合律：（a*b）*c=a*（b*c）となる。"
      ],
      "metadata": {
        "id": "cVz68yimVzeQ"
      }
    },
    {
      "cell_type": "markdown",
      "source": [
        "モノイドの例は以下の通り"
      ],
      "metadata": {
        "id": "YL-7IUehXYCb"
      }
    },
    {
      "cell_type": "markdown",
      "source": [
        "##(Int,+,0)\n",
        "\n",
        "a+0=a\n",
        "\n",
        "0+a=a\n",
        "\n",
        "(a+b)+c=a+(b+c)"
      ],
      "metadata": {
        "id": "tdqR18jMWcD8"
      }
    },
    {
      "cell_type": "markdown",
      "source": [
        "##(Int,*,1)\n",
        "\n",
        "a*1=a\n",
        "\n",
        "1*a=a\n",
        "\n",
        "(a*b)*c=a*(b*c)"
      ],
      "metadata": {
        "id": "Q_Gqe-4QXbl5"
      }
    },
    {
      "cell_type": "markdown",
      "source": [
        "##(String,+,\"\")\n",
        "\n",
        "a+\"\"=a\n",
        "\n",
        "\"\"+a=a\n",
        "\n",
        "(a+b)+c=a+(b+c)"
      ],
      "metadata": {
        "id": "7IfW6KgMXwLd"
      }
    },
    {
      "cell_type": "markdown",
      "source": [
        "##(Array,+,[])\n",
        "\n",
        "a+[]=a\n",
        "\n",
        "[]+a=a\n",
        "\n",
        "(a+b)+c=a+(b+c)"
      ],
      "metadata": {
        "id": "N11msbyFYGo6"
      }
    },
    {
      "cell_type": "markdown",
      "source": [
        "##(Bool,&&,true)\n",
        "\n",
        "a && true = a\n",
        "\n",
        "true && a = a\n",
        "\n",
        "(a && b) && c = a && (b && c)"
      ],
      "metadata": {
        "id": "WGvPKXFchaEB"
      }
    },
    {
      "cell_type": "markdown",
      "source": [
        "##(Bool,||,false)\n",
        "a || false = a\n",
        "\n",
        "false || a = a\n",
        "(a || b) || c = a || (b || c)"
      ],
      "metadata": {
        "id": "PiH6pQh4h-O2"
      }
    },
    {
      "cell_type": "markdown",
      "source": [
        "##(Int,max,maxBound)\n",
        "\n",
        "max(a,maxBound) = a\n",
        "\n",
        "max(maxBound,a) = a\n",
        "\n",
        "max(max(a,b),c)= max(a,max(b,c))"
      ],
      "metadata": {
        "id": "3Ap0ucq6iO4n"
      }
    },
    {
      "cell_type": "markdown",
      "source": [
        "ここで、関手が複数あるパターンを考えていく。関手をF.G.Hとおく。そしてF>G,G>Hに自然変換があるとするとそれをα、βと置くことができる。\n",
        "![関手の自然変換](https://drive.google.com/uc?id=1Vusm8MkbgwC6Enu0lQ9FMho4WzHvj7-X)\n",
        "\n",
        "これの意味は中身をのぞいてみると以下のようになる。\n",
        "![関手の自然変換の中身](https://drive.google.com/uc?id=1hYrKDBFG8Vew5CFy_s-HNH2-X3ERHNxc)\n",
        "\n",
        "そして、そのαとβは合成できる。\n",
        "\n",
        "よって、自然変換自体も合成できる。つまり、結合律を満たす。\n",
        "![自然変換の垂直合成](https://drive.google.com/uc?id=1ljZzKynDglCqPA70RCQGVXEFkcVq46b7)\n",
        "\n",
        "\n",
        "これらのことから、関手自体を圏とみなすことができる。それを関手圏と定義する。\n",
        "まとめると関手圏は以下の画像の通りになる。\n",
        "![関手圏](https://drive.google.com/uc?id=1ppqglJlSlhtQzU3idT3sdGGZhRZZHnuJ)\n",
        "\n",
        "\n"
      ],
      "metadata": {
        "id": "NoY41n0ZM-fW"
      }
    },
    {
      "cell_type": "markdown",
      "source": [],
      "metadata": {
        "id": "Vik3sMIrxUm-"
      }
    },
    {
      "cell_type": "markdown",
      "source": [
        "# 圏論におけるモノイド"
      ],
      "metadata": {
        "id": "_Jr0vPeYAaq7"
      }
    },
    {
      "cell_type": "markdown",
      "source": [
        "ここでモノイドを圏論に発展させる。"
      ],
      "metadata": {
        "id": "rAjNGgM-EoCl"
      }
    },
    {
      "cell_type": "markdown",
      "source": [
        "圏論において演算を考える時は集合の中で考えるのではなく外で考える。つまり射を集合の中で考えないということだ。"
      ],
      "metadata": {
        "id": "Ayg_cws7Aghy"
      }
    },
    {
      "cell_type": "markdown",
      "source": [
        "##圏論における足し算を考える"
      ],
      "metadata": {
        "id": "dXg8I1RRLy6Z"
      }
    },
    {
      "cell_type": "markdown",
      "source": [
        "圏論における足し算は直和または余積と呼ばれる。\n",
        "\n",
        "余積は、特定の条件を満たす圏の2つの対象間の特殊な関係を表す。\n",
        "\n",
        "ここで、デカルト積と圏論における余積を関連付けて、足し算について説明する。"
      ],
      "metadata": {
        "id": "NupnYFKlpg3e"
      }
    },
    {
      "cell_type": "markdown",
      "source": [
        "### まずデカルト積とは"
      ],
      "metadata": {
        "id": "NuclVlfVwPnU"
      }
    },
    {
      "cell_type": "markdown",
      "source": [
        "デカルト積は、2つの集合AとBがあるとき、AとBのデカルト積（記号ではA×Bと表記する）は、Aの各要素とBの各要素の組み合わせからなる組（順序対）の集合だ。\n",
        "\n",
        "すなわち、A×B = {(a, b) | a∈A かつ b∈B}となる。\n",
        "\n",
        "例えば、A = {1, 2}、B = {“a”, “b”}とすると、AとBのデカルト積は次のようになる。\n",
        "\n",
        "A×B = {(1, “a”), (1, “b”), (2, “a”), (2, “b”)}。\n",
        "\n"
      ],
      "metadata": {
        "id": "4kdJmmqixNX8"
      }
    },
    {
      "cell_type": "markdown",
      "source": [
        "# モノイド対象"
      ],
      "metadata": {
        "id": "fmSAQYHJJGnm"
      }
    },
    {
      "cell_type": "markdown",
      "source": [
        "# モノイダル圏"
      ],
      "metadata": {
        "id": "Lm76wo87yKcd"
      }
    },
    {
      "cell_type": "markdown",
      "source": [
        "##モノイダル圏とは"
      ],
      "metadata": {
        "id": "60861EZEzPms"
      }
    },
    {
      "cell_type": "markdown",
      "source": [
        "モノイダル圏は対象を組み合わせを定義する二項演算と単位元を持つ圏である。また、その二項演算のことをテンソル積と呼ぶ。"
      ],
      "metadata": {
        "id": "2dX16SBXyNU9"
      }
    },
    {
      "cell_type": "markdown",
      "source": [
        "## テンソル積とは"
      ],
      "metadata": {
        "id": "3L-OQ6Kez4ci"
      }
    },
    {
      "cell_type": "markdown",
      "source": [
        "テンソル積は2つの対象を組み合わせるということだ。\n",
        "\n",
        "具体的に、モノイダル圏（C, ⊗, I）において、テンソル積⊗は二項関手であり、2つの対象AとBから新たな対象A ⊗ Bを生成する。これは2つの対象を「結合」する方法を提供し、それぞれの対象の性質を保持しる。この操作は、「二項」操作であるため、一度に2つの対象を結合できる。\n",
        "\n",
        "また、モノイダル圏では単位元となる単位対象が存在する。これは、任意の対象Aとテンソル積をとると、その結果はA自身となる。すなわち、I ⊗ AとA ⊗ IはどちらもAと同型となる。"
      ],
      "metadata": {
        "id": "AzCQqwlzz73A"
      }
    },
    {
      "cell_type": "markdown",
      "source": [
        "## ケイリー表現"
      ],
      "metadata": {
        "id": "hvIcWSSf8rrp"
      }
    },
    {
      "cell_type": "markdown",
      "source": [
        "ケイリー表現とは、群を行列として表現する方法。\n",
        "\n",
        "ケイリーの定理：任意の郡は、その郡の自己準同型（すなわち、群から自分自身への準同型写像の集合）の部分群である。\n",
        "\n",
        "これは、モノイドについても同じことが言える。\n",
        "\n",
        "準同型写像はモノイド間の関数であり、それを保存する。\n",
        "\n",
        "モノイドは準同型写像を用いて自身に写すことができる。\n",
        "\n",
        "つまり、モノイドの構造を保存しつつ、そのモノイドを別の形にできる。"
      ],
      "metadata": {
        "id": "Eq7mIDqvL31p"
      }
    },
    {
      "cell_type": "markdown",
      "source": [
        "## クライスリ"
      ],
      "metadata": {
        "id": "gIqaUQkY6aeK"
      }
    },
    {
      "cell_type": "markdown",
      "source": [
        "クライスリ圏とは、与えられたモナドに対して、そのモナドが適用可能な圏をクライスリ圏と呼ぶ。\n",
        "\n",
        "例えば、あるモナドTがある圏Cに対して定義されているとき、そのクライスリ圏は、圏Cの対象と、 Tを用いた射（クライスリ射）から成り立つ。\n",
        "\n",
        "クライスリ射とは、クライスリ圏における射のこと。クライスリ射は、モナドを返す関数である。\n",
        "\n",
        "クライスリ射の合成は、２つのクライスリ射fとgがあるとする。fは対象AからモナドBへの射であり、gは対象BからモナドCへの射である。これを合成すると、クライスリ射の合成は対象AからモナドCへの新たなクライスリ射ができる。この射は対象Aを取り、それをfに適用してモナドBを得る。そしてモナドBをflatmapしてgを適用し、モナドCを得る。"
      ],
      "metadata": {
        "id": "mqzSHW78RyZV"
      }
    },
    {
      "cell_type": "markdown",
      "source": [
        "# すごいHaskell 楽しく学ぼう！　12 A Fistful of Monads The list monad\n",
        "\n",
        "この書籍を参考にまとめようと思います。\n",
        "\n",
        "[リンク](http://learnyouahaskell.com/a-fistful-of-monads#the-list-monad)"
      ],
      "metadata": {
        "id": "B3lKctA-95zb"
      }
    },
    {
      "cell_type": "markdown",
      "source": [
        "## リストモナド"
      ],
      "metadata": {
        "id": "fwpurgOK5uLh"
      }
    },
    {
      "cell_type": "markdown",
      "source": [
        "### 非決定性"
      ],
      "metadata": {
        "id": "cajeFRE27PRH"
      }
    },
    {
      "cell_type": "markdown",
      "source": [
        "　例えば、5という値は決定的である。一方、[8,9,3]というリストは3つの結果を保つため、非決定性があるといえる。"
      ],
      "metadata": {
        "id": "h244feLw51Np"
      }
    },
    {
      "cell_type": "markdown",
      "source": [
        "### アプリカティブスタイル"
      ],
      "metadata": {
        "id": "RzwrHBTR7vBX"
      }
    },
    {
      "cell_type": "markdown",
      "source": [
        "アプリカティブスタイルとは、適用する方法と言える。\n",
        "\n",
        "もし、2つのリスト、例えば[1,2,3]と[10,100,1000]があり、それぞれのリストから１つずつ数字を選んで掛け合わせる全ての組み合わせを見つけるとき、アプリカティブスタイルを使うと、haskellで書くと以下のようになる。"
      ],
      "metadata": {
        "id": "Obxq_T_u73VK"
      }
    },
    {
      "cell_type": "markdown",
      "source": [
        "ghci> (*) <$> [1,2,3] <*> [10,100,1000]  \n",
        "[10,100,1000,20,200,2000,30,300,3000]"
      ],
      "metadata": {
        "id": "s0-chuSoTrt2"
      }
    },
    {
      "cell_type": "markdown",
      "source": [
        "よって、リストをアプリカティブスタイルで使うと、非決定性を表現していることがわかる。"
      ],
      "metadata": {
        "id": "er9g1Yf09VRR"
      }
    },
    {
      "cell_type": "markdown",
      "source": [
        "### リストのMonad インスタンス"
      ],
      "metadata": {
        "id": "JFk2xBnC-_3L"
      }
    },
    {
      "cell_type": "markdown",
      "source": [
        "Haslellのリストモナドは以下のように定義される"
      ],
      "metadata": {
        "id": "cJuEvNVoCtP4"
      }
    },
    {
      "cell_type": "code",
      "source": [
        "instance Monad [] where\n",
        "    return x = [x]\n",
        "    xs >>= f = concat (map f xs)\n",
        "    fail _ = []"
      ],
      "metadata": {
        "id": "r3NsW25AUce7"
      },
      "execution_count": null,
      "outputs": []
    },
    {
      "cell_type": "markdown",
      "source": [
        "\"retern\"は値をリストに包む操作を行う。\n",
        "\n",
        "\"fall\"は空のリストを返す。\n",
        "\n",
        "\">>=\"は文脈付きの値（モナド値）をとり、通常の値を引数に取り、文脈付きの値（モナド値）を返す関数に適用する。今回ので分かりやすく言うとリストの各要素に関数\"f\"を適用し、その結果のリストを結合する。\n",
        "\n",
        "関数が文脈付きの値（モナド値）を生成するため、\">>=\"を使用すると、文脈が保持され続ける。\n",
        "\n",
        "例えば、ghci> \"[3,4,5] >>= \\x -> [x,-x]\"は、リスト\"[3,4,5]\"の各要素に対して関数\"\\x -> [x,-x]\"を適用し、その結果を結合する。よって、結果のリストは\"[3,-3,4,-4,5,-5]となる。\n",
        "\n",
        "具体的な流れは、まずリスト\"[3,4,5]\"を取り出す。\n",
        "\n",
        "次に、各要素にラムダ関数（匿名関数）をmapし、結果は\"[[3,-3],[4,-4],[5,-5]]となる。\n",
        "\n",
        "\n",
        "また、非決定性は結果がない可能性も考慮する。空のリスト\"[]\"は結果がないことを示し、\"Maybe\"モナドの\"Nathing\"とよく似ている。したがって、失敗は空のリストとして定義される。\n",
        "\n",
        "失敗するリストは以下のようになる。\n",
        "\n",
        "ghci[] >>= \\x -> [\"bad\",\"mad\",\"rad\"]\n",
        "\n",
        "[]\n",
        "\n",
        "ghci> [1,2,3] >>= \\x -v []\n",
        "\n",
        "[]\n",
        "\n",
        "一行目の例では、ラムダ式に空のリストが供給される。リストに要素がないため、関数に渡す要素もなく、結果は空のリストになる。これは\"Nothing\"を関数に渡すときと同じだ。\n",
        "\n",
        "二行目の例では、各要素が関数に渡されるが、関数は要素を無視して空集合のリストを返す。よって、全ての要素に対して関数が失敗すると、結果も失敗になる。つまり、空のリストになる。\n",
        "\n",
        "\"Maybe\"の時と同様、\">>=\"を使用して、複数のリストを連結して非決定性を伝播させることができる。\n",
        "\n",
        "ghci> [1,2] >>= \\n -> ['a','b'] >>= \\ch -> return (n,ch)\n",
        "\n",
        "[(1,'a'),(1,'b'),(2,'a'),(2,'b')]\n",
        "\n",
        "これは、[1,2]から出てきた数がnに束縛され、['a','b']から出てきた文字がchに束縛される。\n",
        "\n",
        "次に、return (n,ch)をすると、ペア(n,ch)がデフォルトの文脈に入る。\n",
        "\n",
        "つまり、リスト[1,2]の各要素と、リスト['a','b']の各要素のペアを生成すると言うことだ。\n",
        "\n",
        "一般に、\"return\"は値を最小の文脈で包む。それにより、\"Maybe\"の場合の失敗やリストの場合の非決定性のような追加はなく、ただ結果を提示する。\n",
        "\n",
        "非決定性計算を組み立てた時、その計算を木構造としてみなすことができる。つまり、リストの要素が、木の枝と表すことができる。\n",
        "\n",
        "そして、\"do\"記法を用いて非決定性の操作を書き直して行ってみる。\n",
        "\n",
        "listOfTuples :: [(Int, Char)]\n",
        "\n",
        "listOfTuples = do\n",
        "\n",
        "n<= [1,2]\n",
        "\n",
        "ch <- ['a','b']\n",
        "\n",
        "return (n,ch)\n",
        "\n",
        "こう書くと、nはリスト[1,2]の全ての値を取る。chは['a','b']は全ての値を取る。そして、(n,ch)のペアを返す。ここでの>>=はこの非決定性の文脈を管理している。この場合の文脈は非決定性である。つまり、可能な全ての結果が考慮され、それに基づいて全ての可能な結果のペアが作られる。"
      ],
      "metadata": {
        "id": "Hbaag57RDHdk"
      }
    },
    {
      "cell_type": "markdown",
      "source": [
        "## do記法とリスト内包表記"
      ],
      "metadata": {
        "id": "O4HRCiBbCZd6"
      }
    },
    {
      "cell_type": "markdown",
      "source": [
        "次のコードを見てみる。\n",
        "\n",
        "ghci> [ (n,ch) | n <- [1,2], ch <- ['a','b'] ]\n",
        "\n",
        "[(1,'a'),(1,'b'),(2,'a'),(2,'b')]\n",
        "\n",
        "これはリスト内包表記で、先ほどのdo記法の例と同じ結果を生み出す。\n",
        "\n",
        "変数nはリスト[1,2]から全ての可能な値を取り、nのそれぞれの値について、chはリスト['a','b']から全ての可能な値を取る。そして、(n,ch)を作る。この操作は全て非決定的な文脈で行われる。\n",
        "\n",
        "ただ、リスト内包表記では、最後に(n,ch)を結果として表示するためにreturnを書く必要はない。これは、リスト内包表記の出力パートが自動的に行ってくれるためだ。\n",
        "\n",
        "実際、リスト内包表記は、リストをモナドとして使用するための糖衣構文だ。（糖衣構文とは、プログラミング言語の記法の一種で、ある機能をより読みやすく、書きやすくするために導入される短縮形のことを指す。）最終的には、リスト内包表記とdo記法と使用したリストは、非決定性を特徴とする計算を行うための>>=を使用する形に変換される。つまり、これらの表記法は同じような動作を行う異なる方法と言える。\n",
        "\n"
      ],
      "metadata": {
        "id": "mxokL_PdEhcr"
      }
    },
    {
      "cell_type": "markdown",
      "source": [
        "## MonadPlusとguard関数"
      ],
      "metadata": {
        "id": "lB80FEWLKOMq"
      }
    },
    {
      "cell_type": "markdown",
      "source": [
        "リスト内包表記では、出力する要素を選別（filter）することができた。\n",
        "\n",
        "以下のコードは、リスト内包表記とリストモナドとの関連性をさらに探るものだ。\n",
        "\n",
        "最初にリスト内包表記を使用し、数字のリストから数字が7を含むものだけを選別している。\n",
        "\n",
        "ghci> [ x | x <- [1..50], '7' `elem` show x ]\n",
        "\n",
        "\n",
        "ここでshow関数を使用し、数字を文字列に変換し、それから文字列が7を含むかどうかをチェックしている。そして、結果7を含む数字だけがリストに残る。\n",
        "\n",
        "結果は[7,17,27,37,47]となる。\n",
        "\n",
        "**MonadPlus**\n",
        "\n",
        "モナドであると同時にモノイド（二項演算と単位元を持つ構造）であることができる型クラスだ。\n",
        "リストはモナドであり、モノイドであるため、MonadPlusのインスタンスにできる。\n",
        "\n",
        "定義は以下の通り、\n",
        "\n",
        "class Monad m => MonadPlus m where\n",
        "\n",
        "mzero :: m a\n",
        "\n",
        "mplus :: m a -> m a -> m a\n",
        "\n",
        "mzeroは失敗した計算を表し、mplusは2つの計算を組み合わせることを表す。リストにおいては、mzeroは空のリスト（失敗）、mplusはリストの連結を表す。\n",
        "\n",
        "**guard関数**\n",
        "\n",
        "guard関数は、真偽値を引数に取り、真であれば()を成功とする最小限のデフォルト文脈を作成し、偽であればモナド値（空のリスト）を作成する。これにより、リスト内包表記で行っていた選別をモナドを使用して同様に行える。\n",
        "\n",
        "guard :: (MonadPlus m) => Bool -> m ()  \n",
        "guard True = return ()  \n",
        "guard False = mzero  \n",
        "\n",
        "これを用いて、リストもなどを使ってリスト内包表記と同様の選別を行う。\n",
        "\n",
        "[1..50] >>= (\\x -> guard ('7' `elem` show x) >> return x)\n",
        "\n",
        "\n",
        "これは、１から５０までの数値xについて、xを文字列に変換したときに７を含むものだけを選び、それを単一の要素リストとして返す。結果は[7,17,27,37,47]となる。\n",
        "\n",
        "この計算はdo記法を用いて以下のように書くことができる。\n",
        "\n",
        "sevensOnly :: [Int]  \n",
        "sevensOnly = do  \n",
        "x <- [1..50]  \n",
        "guard ('7' `elem` show x)  \n",
        "return x  \n",
        "\n",
        "\n",
        "これも、１から５０までの数値xのついて、xを文字列に変換した時に7を含むものだけを選び、それを単一の要素リストとして返すという意味になる。\n",
        "\n",
        "よって、リスト内包表記でフィルタを使うのはguradと同値である。\n",
        "つまり、リスト内包表記は、モナドとしてのリストを短く記述できる。\n",
        "\n"
      ],
      "metadata": {
        "id": "N1UxAfWbKSUc"
      }
    },
    {
      "cell_type": "markdown",
      "source": [
        "## 騎士の旅"
      ],
      "metadata": {
        "id": "GFd3V3iRZ-8P"
      }
    },
    {
      "cell_type": "markdown",
      "source": [
        "非決定性を利用して解くのに適した問題がある。\n",
        "\n",
        "チェスボードがあるとする。その上にはナイトの駒が１つだけ置かれている。ナイトを３回動かして特定の位置に移動させられるかという問題だ。ナイトの位置は、単なる数字のペアで表現することにする。\n",
        "１つ目の数が横軸、２つ目が縦軸だ。\n",
        "\n",
        "ナイトが(6,2)でスタートして、正確に３手で(6,1)に到達できるか考える。\n",
        "\n",
        "以下のコードは、ナイトの位置を引数にとり、次にいける位置を列挙する関数だ。\n",
        "\n",
        "moveKnight :: KnightPos -> [KnightPos]\n",
        "moveKnight (c,r) = do\n",
        "    (c',r') <- [(c+2,r-1),(c+2,r+1),(c-2,r-1),(c-2,r+1)\n",
        "               ,(c+1,r-2),(c+1,r+2),(c-1,r-2),(c-1,r+2)\n",
        "               ]\n",
        "    guard (c' `elem` [1..8] && r' `elem` [1..8])\n",
        "    return (c',r')\n",
        "\n",
        "ナイトは水平に１マス動いたあと垂直に２マス、あるいは垂直に１マス動いたあと水平に２マス、という動きが１手でできる。(c',r')は可能な動きのリストから全ての値をとる。その後、guardha\n",
        "(c',r')が盤面上にあることを確認する。もしはみ出している場合、guardは空リストを生み出し、それによって失敗が起こり、(c',r')は実行されない。\n",
        "\n",
        "この関数は、リストをモナドとして使用せずにも書くことができる。\n",
        "\n",
        "filterを使用して同じ関数をかく。\n",
        "\n",
        "moveKnight :: KnightPos -> [KnightPos]\n",
        "moveKnight (c,r) = filter onBoard\n",
        "    [(c+2,r-1),(c+2,r+1),(c-2,r-1),(c-2,r+1)\n",
        "    ,(c+1,r-2),(c+1,r+2),(c-1,r-2),(c-1,r+2)\n",
        "    ]\n",
        "    where onBoard (c,r) = c `elem` [1..8] && r `elem` [1..8]\n",
        "\n",
        "これら２つの関数は同じことを行う。\n",
        "\n",
        "実際に試すとちゃんと動く。\n",
        "\n",
        "ghci> moveKnight (6,2)  \n",
        "[(8,1),(8,3),(4,1),(4,3),(7,4),(5,4)]  \n",
        "ghci> moveKnight (8,1)  \n",
        "[(6,2),(7,3)]\n",
        "\n",
        "さて、次に、ナイトが次にどこへ行くかについて考えるのではなく、一度に全ての可能な手を計算する。そのため、非決定的な次の位置を得られたら、>>=を使ってmoveKnightに供給する。以下が、初期位置を取って、３手で行ける位置を全て返してくれる関数だ。\n",
        "\n",
        "in3 :: KnightPos -> [KnightPos]  \n",
        "in3 start = do   \n",
        "    first <- moveKnight start  \n",
        "    second <- moveKnight first  \n",
        "    moveKnight second  \n",
        "  \n",
        "この関数に(6,2)を渡して返ってくるリストはかなり大きくなる。なぜなら、同じ位置に３手で行く経路が複数ある場合、その位置が複数回リストに登場するからだ。\n",
        "\n",
        "do記法を使わずに同じことをするには以下のようになる。\n",
        "\n",
        "in3 start = return start >>= moveKnight >>= moveKnight >>= moveKnight\n",
        "\n",
        " \">>=\"を１回使用すると、スタートから全ての可能な手が得られる。２回目に>>=を使用すると、各可能な最初の手に対して、全ての可能な次の手が計算され、最後の手についても同様だ。\n",
        "\n",
        "値をデフォルトの文脈に入れて、returnを適用し、それを>>=で関数に供給することは、単に関数を値に適用するのと同じだ。\n",
        "\n",
        "最後に、２つの位置を取り、１つ目の位置から２つ目の位置にちょうど３手で到達できるか教えてくれる関数を作る。\n",
        "\n",
        "canReachIn3 :: KnightPos -> KnightPos -> Bool\n",
        "canReachIn3 start end = end `elem` in3 start\n",
        "\n",
        "３手で行ける位置を全て生成し、目的地がその中に含まれているか調べている。\n",
        "例えば、(6,2)から(6,1)へ３手で行けるかどうか試すには以下のようになる。\n",
        "\n",
        "ghci> (6,2) `canReachIn3` (6,1)\n",
        "True\n",
        "\n",
        "このように、３手で(6,2)から(6,1)に移動できる。\n",
        "\n",
        "では(6,2)から(7,3)は、\n",
        "\n",
        "ghci> (6,2) `canReachIn3` (7,3)\n",
        "False\n",
        "\n",
        "よって３手で(6,2)から(7,3)に移動することはできない。\n",
        "\n",
        "今回、モナドとその関数を使用し、非決定性を表現する方法を学んだ。\n",
        "モナドを使用することで、ナイトが次にどの位置に移動するべきかを１手ごとに決定するのではなく、すぐに全ての可能な手を計算することができる。そして、>>=を使用して、全ての可能な次の位置を生成する関数をモナドに適用することで、全ての手からまた全ての手を計算することができる。"
      ],
      "metadata": {
        "id": "xsXzBJ9BaB8Y"
      }
    },
    {
      "cell_type": "markdown",
      "source": [
        "# すごいHaskell 楽しく学ぼう！　15 Zipper\n",
        "\n",
        "この章を参考にZipperについてまとめようと思います。"
      ],
      "metadata": {
        "id": "YYnduzmOLsLQ"
      }
    },
    {
      "cell_type": "markdown",
      "source": [
        "Haskellは不変、参照透過生、データ変更が難しいという性質がある純粋な関数型言語である。よって、他の言語のようにメモリ内の値を直接変更することができない。したがって、何かを変更したい場合、新しいバージョンを作成する必要がある。"
      ],
      "metadata": {
        "id": "wDdKTG4frw4I"
      }
    },
    {
      "cell_type": "markdown",
      "source": [
        "## Zipperとは\n",
        "\n",
        "Zipperについて簡単に説明すると、データ構造の中の特定の部分に焦点を当てる方法だ。ジャケットのファスナーを動かすことで特定の位置にアクセスするのと同じように、Zipperを使うことでデータ構造の中の特定の位置にアクセスしやすくなる。"
      ],
      "metadata": {
        "id": "HtU37Sesp4vR"
      }
    },
    {
      "cell_type": "markdown",
      "source": [
        "## 歩こう"
      ],
      "metadata": {
        "id": "sWw_thw5rk8Z"
      }
    },
    {
      "cell_type": "markdown",
      "source": [
        "生物の授業で習ったように、木にはいろんな種類がある。これから使う気の種を蒔く。以下がその定義だ。\n",
        "\n",
        "data Tree a = Empty | Node a (Tree a) (Tree a) deriving (Show)  \n",
        "\n",
        "この定義によると、私たちの木は空か要素と２つのサブツリーを持つノードだ。以下はその例となる。\n",
        "\n",
        "freeTree :: Tree Char  \n",
        "freeTree =   \n",
        "    Node 'P'  \n",
        "        (Node 'O'  \n",
        "            (Node 'L'  \n",
        "                (Node 'N' Empty Empty)  \n",
        "                (Node 'T' Empty Empty)  \n",
        "            )  \n",
        "            (Node 'Y'  \n",
        "                (Node 'S' Empty Empty)  \n",
        "                (Node 'A' Empty Empty)  \n",
        "            )  \n",
        "        )  \n",
        "        (Node 'L'  \n",
        "            (Node 'W'  \n",
        "                (Node 'C' Empty Empty)  \n",
        "                (Node 'R' Empty Empty)  \n",
        "            )  \n",
        "            (Node 'A'  \n",
        "                (Node 'A' Empty Empty)  \n",
        "                (Node 'C' Empty Empty)  \n",
        "            )  \n",
        "        )  \n",
        "\n",
        "\n",
        "そして、この木を描写すると次のようになる。\n",
        "![木](http://learnyouahaskell.com/pollywantsa.png)\n",
        "\n",
        "\n",
        "この木の中の「W」に注目する。これを「P」に変更したいとする。１つの方法は、きのパターンマッチを行い、最初に右に移動し、次に左に移動して該当の要素を見つけ、それを変更することだ。以下がそのコードだ。\n",
        "\n",
        "changeToP :: Tree Char -> Tree Char  \n",
        "changeToP (Node x l (Node y (Node _ m n) r)) = Node x l (Node y (Node 'P' m n) r)  \n",
        "\n",
        "\n",
        "しかし、この方法は少し複雑だ。何が起こっているのか。木のパターンマッチングを行い、ルート要素をxとして名付け、左のサブツリーを1として名付ける。右のサブツリーに名前を付ける代わりに、サレにパターンマッチングを行う。このパターンマッチングをルートが「W]であるサブツリーに到達するまで続ける。これが終われば、木を再構築するが、ルートに「W」があったサブツリーだけが「P」になる。\n",
        "\n",
        "もっと良い方法がないかを考える。方向のリストとともに木を取る関数を作成する。方向は左または右であり、指定された方向にしたがって到達した要素を変更する。以下がその定義となる。\n",
        "\n",
        "data Direction = L | R deriving (Show)  \n",
        "type Directions = [Direction]  \n",
        "  \n",
        "changeToP :: Directions-> Tree Char -> Tree Char  \n",
        "changeToP (L:ds) (Node x l r) = Node x (changeToP ds l) r  \n",
        "changeToP (R:ds) (Node x l r) = Node x l (changeToP ds r)  \n",
        "changeToP [] (Node _ l r) = Node 'P' l r  \n",
        "\n",
        "この関数は、方向のリストを使用して、木の特定の部分に「焦点」を当てることができる。例えば、[R]の方向リストは、ルートの右のサブツリーに焦点を当てます。方向リストが空の場合、メインの木自体に焦点を当てる。\n",
        "\n",
        "この技はカッコよく思えるかもしれませんが、特に要素を繰り返し変更したい場合、非効率的である可能性がある。非常に大きな木と、木の最下部のある要素を指す長い方向リストがあるとする。方向リストを使用して木を歩き、最下部の要素を変更する。もし、ちょうど変更した要素に近い別の要素を変更したい場合、木のルートから始めて、再び最下部まで歩く必要がある。これは非常に面倒だ。\n",
        "\n"
      ],
      "metadata": {
        "id": "RJoC6BVnssRO"
      }
    },
    {
      "cell_type": "markdown",
      "source": [
        "## Haskellの木\n",
        "\n",
        "データ構造を木で捉えることにする。木は家系図のようなもので、最上部の"
      ],
      "metadata": {
        "id": "qyzRToAwpRsc"
      }
    },
    {
      "cell_type": "markdown",
      "source": [],
      "metadata": {
        "id": "R0Gt4xC7riby"
      }
    }
  ]
}