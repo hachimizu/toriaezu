{
  "nbformat": 4,
  "nbformat_minor": 0,
  "metadata": {
    "colab": {
      "provenance": [],
      "include_colab_link": true
    },
    "kernelspec": {
      "name": "python3",
      "display_name": "Python 3"
    },
    "language_info": {
      "name": "python"
    }
  },
  "cells": [
    {
      "cell_type": "markdown",
      "metadata": {
        "id": "view-in-github",
        "colab_type": "text"
      },
      "source": [
        "<a href=\"https://colab.research.google.com/github/hachimizu/toriaezu/blob/main/Untitled0.ipynb\" target=\"_parent\"><img src=\"https://colab.research.google.com/assets/colab-badge.svg\" alt=\"Open In Colab\"/></a>"
      ]
    },
    {
      "cell_type": "markdown",
      "source": [
        "# 圏論とモナドについて"
      ],
      "metadata": {
        "id": "gJnFAU1sG3D1"
      }
    },
    {
      "cell_type": "markdown",
      "source": [
        "[プログラマのためのモナド入門 稲見 泰宏 | プログラマのためのモナド入門](https://www.youtube.com/watch?v=fhuAlDPgi2Q)\n",
        "\n",
        "この動画を見て圏論とモナドについてまとめようと思います。"
      ],
      "metadata": {
        "id": "e5QHte1ZG82Q"
      }
    },
    {
      "cell_type": "markdown",
      "source": [
        "# 圏論"
      ],
      "metadata": {
        "id": "QY4DSp1IBEIB"
      }
    },
    {
      "cell_type": "markdown",
      "source": [
        "圏論とは、集合である対象と集合間の関数である射である。\n",
        "\n",
        "対象はある種の事物であり、射は対象間の関係を表現する。"
      ],
      "metadata": {
        "id": "fBDhy9FOBKpO"
      }
    },
    {
      "cell_type": "markdown",
      "source": [
        "### 対象"
      ],
      "metadata": {
        "id": "zBEHXxYWIj--"
      }
    },
    {
      "cell_type": "markdown",
      "source": [
        "対象とは基本的な要素のこと。抽象的な概念であり、具体的な性質はその対象が属する圏によって異なる。\n",
        "\n",
        "集合の圏における対象は、集合そのもののこと。"
      ],
      "metadata": {
        "id": "LmTWL-S2I3Nm"
      }
    },
    {
      "cell_type": "markdown",
      "source": [
        "### 射"
      ],
      "metadata": {
        "id": "l3d_uLSbJPJb"
      }
    },
    {
      "cell_type": "markdown",
      "source": [
        "射とは対象間の関係を表現するもの。\n",
        "\n",
        "射fは一つの対象Aから別の対象Bへのmapを表します。射は始点（元）と終点（像）を持つ。\n",
        "\n",
        "射の具体的な性質もその射が属する圏によって異なる。\n",
        "\n",
        "集合の圏における射は、集合間の関数のこと。\n",
        "\n",
        "射の性質として、合成できることが挙げられる。すなわち、射fが対象Aから対象Bへ、射gが対象Bから対象Cへの写像を表すならば、その合成g◯fは対象Aから対象Cへの新たな射を定義する。"
      ],
      "metadata": {
        "id": "oP438DNwJRZE"
      }
    },
    {
      "cell_type": "markdown",
      "source": [
        "## 圏（カテゴリー）の定義"
      ],
      "metadata": {
        "id": "uHNRIR7gCCVF"
      }
    },
    {
      "cell_type": "markdown",
      "source": [
        "圏は以下の要素から構成される。\n",
        "\n",
        "1. 対象の集まり\n",
        "\n",
        "2. 射の集まり（各射には始点と終点になる対象がある。）\n",
        "\n",
        "3. 射の合成（射fがAからBへ、射gがBからCへの写像を表すならば、その合成g◯fはAからCへの射となる。）\n",
        "\n",
        "4. 各対象において恒等射（単位射）が存在する（対象がAならば、AからA）\n",
        "\n",
        "5. 結合律（すべての射f: a → b、g: b → c、h: c → dに対して、h⚪︎(g⚪︎f) = (h⚪︎g)⚪︎fが成り立つ。つまり、射の合成の順序を変えても結果は変わらない。）\n",
        "\n",
        "\n",
        "これらを満たす対象と射の集まりを圏、またはカテゴリーと呼ぶ。"
      ],
      "metadata": {
        "id": "ZTvsLThmFoT8"
      }
    },
    {
      "cell_type": "markdown",
      "source": [
        "## モナド"
      ],
      "metadata": {
        "id": "Dz7XOfsmC-hd"
      }
    },
    {
      "cell_type": "markdown",
      "source": [
        "モナドとは、圏のなかに存在する特定の対象と射の組み合わせの事を言う。\n",
        "また、モナドは自己関手と二項演算から構成される。"
      ],
      "metadata": {
        "id": "47GJV_2GHnD1"
      }
    },
    {
      "cell_type": "markdown",
      "source": [
        "## 関手(Functor)とは"
      ],
      "metadata": {
        "id": "KjndcNL3jovx"
      }
    },
    {
      "cell_type": "markdown",
      "source": [
        "圏を圏にmapすること（移すこと）。\n",
        "\n",
        "つまり、関手は、対象から対象、射から射へのmapする。\n",
        "\n",
        "\n",
        "対象から対象：もしAが一つの圏の対象であれば、関手Fはそれを別の圏の対象F(A)にマップする。\n",
        "\n",
        "射から射：もしfが一つの圏の射であれば、関手Fはそれを別の圏の射F(f)へマップする。\n",
        "![関手](https://drive.google.com/uc?id=1cbcWU55tLAvml9aZiTDoHSnjL-gabYYs)\n",
        "\n",
        "\n",
        "また、関手は射の合成の保存、恒等射の保存の性質を持つ。\n",
        "\n",
        "射の合成の保存：もしfとgが射で、その合成がg◯fであれば、その関手によるmappingも同じ合成を持つ。\n",
        "\n",
        "恒等射の保存：全ての対象に対して、その恒等射のmappingはmappingされた対象の恒等射になる。\n",
        "\n",
        "![射の合成、恒等射](https://drive.google.com/uc?id=1J2UzLoIMByr__3L2btuPnR9Z0SCVFCm5)\n",
        "\n"
      ],
      "metadata": {
        "id": "ll8RM4fajymQ"
      }
    },
    {
      "cell_type": "markdown",
      "source": [
        "# 関手圏"
      ],
      "metadata": {
        "id": "BSBB4MGaM7VA"
      }
    },
    {
      "cell_type": "markdown",
      "source": [
        "関手圏とは、１つの圏の対象が関手であり、射が自然変換である圏のこと。\n",
        "\n",
        "自然変換とは、２つの関手間の対応を表し、特定の条件を満たす。"
      ],
      "metadata": {
        "id": "LuwWwWjPTrtg"
      }
    },
    {
      "cell_type": "markdown",
      "source": [
        "## 自己関手の圏"
      ],
      "metadata": {
        "id": "RxRS4TTmRZnT"
      }
    },
    {
      "cell_type": "markdown",
      "source": [
        "### 自己関手"
      ],
      "metadata": {
        "id": "Ir1ki4KvU0p1"
      }
    },
    {
      "cell_type": "markdown",
      "source": [
        "自己関手とは、ある圏からその圏自体へのmapping（関手）のことを指す。自己関手はその圏の対象と射を、同じ圏の別の対象と射にmappingする。また、そのmappingは射の合成と恒等射の保存の性質をもつ。"
      ],
      "metadata": {
        "id": "BARjXgIQVN-7"
      }
    },
    {
      "cell_type": "markdown",
      "source": [
        "### モノイド"
      ],
      "metadata": {
        "id": "T_8Cma1YVwN3"
      }
    },
    {
      "cell_type": "markdown",
      "source": [
        "モノイドは単位元と二項演算（合成）、そして結合律の性質を持つ。\n",
        "\n",
        "二項演算（合成）：二つの元を取り、それらを組み合わせて新しい元を作る操作\n",
        "\n",
        "単位元：二項演算を通じて他のどの元と組み合わせてもその元自体を返すような特別な元\n",
        "\n",
        "結合律：（a*b）*c=a*（b*c）となる。"
      ],
      "metadata": {
        "id": "cVz68yimVzeQ"
      }
    },
    {
      "cell_type": "markdown",
      "source": [
        "モノイドの例は以下の通り"
      ],
      "metadata": {
        "id": "YL-7IUehXYCb"
      }
    },
    {
      "cell_type": "markdown",
      "source": [
        "##(Int,+,0)\n",
        "\n",
        "a+0=a\n",
        "\n",
        "0+a=a\n",
        "\n",
        "(a+b)+c=a+(b+c)"
      ],
      "metadata": {
        "id": "tdqR18jMWcD8"
      }
    },
    {
      "cell_type": "markdown",
      "source": [
        "##(Int,*,1)\n",
        "\n",
        "a*1=a\n",
        "\n",
        "1*a=a\n",
        "\n",
        "(a*b)*c=a*(b*c)"
      ],
      "metadata": {
        "id": "Q_Gqe-4QXbl5"
      }
    },
    {
      "cell_type": "markdown",
      "source": [
        "##(String,+,\"\")\n",
        "\n",
        "a+\"\"=a\n",
        "\n",
        "\"\"+a=a\n",
        "\n",
        "(a+b)+c=a+(b+c)"
      ],
      "metadata": {
        "id": "7IfW6KgMXwLd"
      }
    },
    {
      "cell_type": "markdown",
      "source": [
        "##(Array,+,[])\n",
        "\n",
        "a+[]=a\n",
        "\n",
        "[]+a=a\n",
        "\n",
        "(a+b)+c=a+(b+c)"
      ],
      "metadata": {
        "id": "N11msbyFYGo6"
      }
    },
    {
      "cell_type": "markdown",
      "source": [
        "##(Bool,&&,true)\n",
        "\n",
        "a && true = a\n",
        "\n",
        "true && a = a\n",
        "\n",
        "(a && b) && c = a && (b && c)"
      ],
      "metadata": {
        "id": "WGvPKXFchaEB"
      }
    },
    {
      "cell_type": "markdown",
      "source": [
        "##(Bool,||,false)\n",
        "a || false = a\n",
        "\n",
        "false || a = a\n",
        "(a || b) || c = a || (b || c)"
      ],
      "metadata": {
        "id": "PiH6pQh4h-O2"
      }
    },
    {
      "cell_type": "markdown",
      "source": [
        "##(Int,max,maxBound)\n",
        "\n",
        "max(a,maxBound) = a\n",
        "\n",
        "max(maxBound,a) = a\n",
        "\n",
        "max(max(a,b),c)= max(a,max(b,c))"
      ],
      "metadata": {
        "id": "3Ap0ucq6iO4n"
      }
    },
    {
      "cell_type": "markdown",
      "source": [
        "ここで、関手が複数あるパターンを考えていく。関手をF.G.Hとおく。そしてF>G,G>Hに自然変換があるとするとそれをα、βと置くことができる。\n",
        "![関手の自然変換](https://drive.google.com/uc?id=1Vusm8MkbgwC6Enu0lQ9FMho4WzHvj7-X)\n",
        "\n",
        "これの意味は中身をのぞいてみると以下のようになる。\n",
        "![関手の自然変換の中身](https://drive.google.com/uc?id=1hYrKDBFG8Vew5CFy_s-HNH2-X3ERHNxc)\n",
        "\n",
        "そして、そのαとβは合成できる。\n",
        "\n",
        "よって、自然変換自体も合成できる。つまり、結合律を満たす。\n",
        "![自然変換の垂直合成](https://drive.google.com/uc?id=1ljZzKynDglCqPA70RCQGVXEFkcVq46b7)\n",
        "\n",
        "\n",
        "これらのことから、関手自体を圏とみなすことができる。それを関手圏と定義する。\n",
        "まとめると関手圏は以下の画像の通りになる。\n",
        "![関手圏](https://drive.google.com/uc?id=1ppqglJlSlhtQzU3idT3sdGGZhRZZHnuJ)\n",
        "\n",
        "\n"
      ],
      "metadata": {
        "id": "NoY41n0ZM-fW"
      }
    },
    {
      "cell_type": "markdown",
      "source": [],
      "metadata": {
        "id": "Vik3sMIrxUm-"
      }
    },
    {
      "cell_type": "markdown",
      "source": [
        "# 圏論におけるモノイド"
      ],
      "metadata": {
        "id": "_Jr0vPeYAaq7"
      }
    },
    {
      "cell_type": "markdown",
      "source": [
        "ここでモノイドを圏論に発展させる。"
      ],
      "metadata": {
        "id": "rAjNGgM-EoCl"
      }
    },
    {
      "cell_type": "markdown",
      "source": [
        "圏論において演算を考える時は集合の中で考えるのではなく外で考える。つまり射を集合の中で考えないということだ。"
      ],
      "metadata": {
        "id": "Ayg_cws7Aghy"
      }
    },
    {
      "cell_type": "markdown",
      "source": [
        "##圏論における足し算を考える"
      ],
      "metadata": {
        "id": "dXg8I1RRLy6Z"
      }
    },
    {
      "cell_type": "markdown",
      "source": [
        "圏論における足し算は直和または余積と呼ばれる。\n",
        "\n",
        "余積は、特定の条件を満たす圏の2つの対象間の特殊な関係を表す。\n",
        "\n",
        "ここで、デカルト積と圏論における余積を関連付けて、足し算について説明する。"
      ],
      "metadata": {
        "id": "NupnYFKlpg3e"
      }
    },
    {
      "cell_type": "markdown",
      "source": [
        "### まずデカルト積とは"
      ],
      "metadata": {
        "id": "NuclVlfVwPnU"
      }
    },
    {
      "cell_type": "markdown",
      "source": [
        "デカルト積は、2つの集合AとBがあるとき、AとBのデカルト積（記号ではA×Bと表記する）は、Aの各要素とBの各要素の組み合わせからなる組（順序対）の集合だ。\n",
        "\n",
        "すなわち、A×B = {(a, b) | a∈A かつ b∈B}となる。\n",
        "\n",
        "例えば、A = {1, 2}、B = {“a”, “b”}とすると、AとBのデカルト積は次のようになる。\n",
        "\n",
        "A×B = {(1, “a”), (1, “b”), (2, “a”), (2, “b”)}。\n",
        "\n"
      ],
      "metadata": {
        "id": "4kdJmmqixNX8"
      }
    },
    {
      "cell_type": "markdown",
      "source": [
        "# モノイド対象"
      ],
      "metadata": {
        "id": "fmSAQYHJJGnm"
      }
    },
    {
      "cell_type": "markdown",
      "source": [
        "# モノイダル圏"
      ],
      "metadata": {
        "id": "Lm76wo87yKcd"
      }
    },
    {
      "cell_type": "markdown",
      "source": [
        "##モノイダル圏とは"
      ],
      "metadata": {
        "id": "60861EZEzPms"
      }
    },
    {
      "cell_type": "markdown",
      "source": [
        "モノイダル圏は対象を組み合わせを定義する二項演算と単位元を持つ圏である。また、その二項演算のことをテンソル積と呼ぶ。"
      ],
      "metadata": {
        "id": "2dX16SBXyNU9"
      }
    },
    {
      "cell_type": "markdown",
      "source": [
        "## テンソル積とは"
      ],
      "metadata": {
        "id": "3L-OQ6Kez4ci"
      }
    },
    {
      "cell_type": "markdown",
      "source": [
        "テンソル積は2つの対象を組み合わせるということだ。\n",
        "\n",
        "具体的に、モノイダル圏（C,）"
      ],
      "metadata": {
        "id": "AzCQqwlzz73A"
      }
    },
    {
      "cell_type": "markdown",
      "source": [],
      "metadata": {
        "id": "54J0wR8QzLRD"
      }
    }
  ]
}