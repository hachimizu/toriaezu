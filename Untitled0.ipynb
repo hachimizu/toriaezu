{
  "nbformat": 4,
  "nbformat_minor": 0,
  "metadata": {
    "colab": {
      "provenance": [],
      "toc_visible": true,
      "authorship_tag": "ABX9TyPmoz0zfhe6iyVimylzcji0",
      "include_colab_link": true
    },
    "kernelspec": {
      "name": "python3",
      "display_name": "Python 3"
    },
    "language_info": {
      "name": "python"
    }
  },
  "cells": [
    {
      "cell_type": "markdown",
      "metadata": {
        "id": "view-in-github",
        "colab_type": "text"
      },
      "source": [
        "<a href=\"https://colab.research.google.com/github/hachimizu/toriaezu/blob/main/Untitled0.ipynb\" target=\"_parent\"><img src=\"https://colab.research.google.com/assets/colab-badge.svg\" alt=\"Open In Colab\"/></a>"
      ]
    },
    {
      "cell_type": "markdown",
      "source": [
        "# 圏論とモナドについて"
      ],
      "metadata": {
        "id": "gJnFAU1sG3D1"
      }
    },
    {
      "cell_type": "markdown",
      "source": [
        "[プログラマのためのモナド入門 稲見 泰宏 | プログラマのためのモナド入門](https://www.youtube.com/watch?v=fhuAlDPgi2Q)\n",
        "\n",
        "この動画を見て圏論とモナドについてまとめようと思います。"
      ],
      "metadata": {
        "id": "e5QHte1ZG82Q"
      }
    },
    {
      "cell_type": "markdown",
      "source": [
        "# モナドとは構造化定理の3つの基本制御構造をもつ"
      ],
      "metadata": {
        "id": "A0EYdklrjLvi"
      }
    },
    {
      "cell_type": "markdown",
      "source": [
        "1.順次(Applicative)プログラムに記された順に、逐次処理を行なっていく"
      ],
      "metadata": {
        "id": "9CMmfWcSjVnZ"
      }
    },
    {
      "cell_type": "markdown",
      "source": [
        "2.反復(Functor)一定の条件が満たされている間処理を繰り返す"
      ],
      "metadata": {
        "id": "YvvaUrznje0s"
      }
    },
    {
      "cell_type": "markdown",
      "source": [
        "3.分岐(Monad)ある条件が成立するなら処理Aを、そうでなければ処理Bを行う"
      ],
      "metadata": {
        "id": "QLc7sC7gjja6"
      }
    },
    {
      "cell_type": "markdown",
      "source": [
        "# 関手(Functor)とは"
      ],
      "metadata": {
        "id": "KjndcNL3jovx"
      }
    },
    {
      "cell_type": "markdown",
      "source": [
        "圏を圏に移すこと。つまり、内部の対象をそのまま移す。もしくは写をそのままに移す。![関手](https://drive.google.com/uc?id=1yiQ9Q30S2SB-Faici2o5U60ECNhTAesn)\n",
        "また以下の図のように右の圏のピンクと緑の写を合成しても左の圏で合成してから右にmapしても結果が同じである。![圏のmap](https://drive.google.com/uc?id=1OebXcJCYLNaOg_UqBrixt4bauPzCCWtB)"
      ],
      "metadata": {
        "id": "ll8RM4fajymQ"
      }
    },
    {
      "cell_type": "markdown",
      "source": [
        "# 関手の合成"
      ],
      "metadata": {
        "id": "TDtoSHxtFi07"
      }
    },
    {
      "cell_type": "markdown",
      "source": [
        "圏論とは細かいことは気にせず、対象と写さえ考えれば良い。\n",
        "圏をC、D、Eとする。CDEは圏であるため恒等関手が存在する。よって関手の合成は以下のようになる。![関手の合成](https://drive.google.com/uc?id=1J2UzLoIMByr__3L2btuPnR9Z0SCVFCm5)\n",
        "\n"
      ],
      "metadata": {
        "id": "CU8JOfI5FnfO"
      }
    }
  ]
}