{
  "nbformat": 4,
  "nbformat_minor": 0,
  "metadata": {
    "colab": {
      "provenance": [],
      "include_colab_link": true
    },
    "kernelspec": {
      "name": "python3",
      "display_name": "Python 3"
    },
    "language_info": {
      "name": "python"
    }
  },
  "cells": [
    {
      "cell_type": "markdown",
      "metadata": {
        "id": "view-in-github",
        "colab_type": "text"
      },
      "source": [
        "<a href=\"https://colab.research.google.com/github/hachimizu/toriaezu/blob/main/Untitled0.ipynb\" target=\"_parent\"><img src=\"https://colab.research.google.com/assets/colab-badge.svg\" alt=\"Open In Colab\"/></a>"
      ]
    },
    {
      "cell_type": "markdown",
      "source": [
        "# 圏論とモナドについて"
      ],
      "metadata": {
        "id": "gJnFAU1sG3D1"
      }
    },
    {
      "cell_type": "markdown",
      "source": [
        "[プログラマのためのモナド入門 稲見 泰宏 | プログラマのためのモナド入門](https://www.youtube.com/watch?v=fhuAlDPgi2Q)\n",
        "\n",
        "この動画を見て圏論とモナドについてまとめようと思います。"
      ],
      "metadata": {
        "id": "e5QHte1ZG82Q"
      }
    },
    {
      "cell_type": "markdown",
      "source": [
        "# 圏論"
      ],
      "metadata": {
        "id": "QY4DSp1IBEIB"
      }
    },
    {
      "cell_type": "markdown",
      "source": [
        "圏論とは、集合である対象と集合間の関数である射である。\n",
        "\n",
        "対象はある種の事物であり、射は対象間の関係を表現する。"
      ],
      "metadata": {
        "id": "fBDhy9FOBKpO"
      }
    },
    {
      "cell_type": "markdown",
      "source": [
        "### 対象"
      ],
      "metadata": {
        "id": "zBEHXxYWIj--"
      }
    },
    {
      "cell_type": "markdown",
      "source": [
        "対象とは基本的な要素のこと。抽象的な概念であり、具体的な性質はその対象が属する圏によって異なる。\n",
        "\n",
        "集合の圏における対象は、集合そのもののこと。"
      ],
      "metadata": {
        "id": "LmTWL-S2I3Nm"
      }
    },
    {
      "cell_type": "markdown",
      "source": [
        "### 射"
      ],
      "metadata": {
        "id": "l3d_uLSbJPJb"
      }
    },
    {
      "cell_type": "markdown",
      "source": [
        "射とは対象間の関係を表現するもの。\n",
        "\n",
        "射fは一つの対象Aから別の対象Bへのmapを表します。射は始点（元）と終点（像）を持つ。\n",
        "\n",
        "射の具体的な性質もその射が属する圏によって異なる。\n",
        "\n",
        "集合の圏における射は、集合間の関数のこと。\n",
        "\n",
        "射の性質として、合成できることが挙げられる。すなわち、射fが対象Aから対象Bへ、射gが対象Bから対象Cへの写像を表すならば、その合成g◯fは対象Aから対象Cへの新たな射を定義する。"
      ],
      "metadata": {
        "id": "oP438DNwJRZE"
      }
    },
    {
      "cell_type": "markdown",
      "source": [
        "## 圏の定義"
      ],
      "metadata": {
        "id": "uHNRIR7gCCVF"
      }
    },
    {
      "cell_type": "markdown",
      "source": [
        "圏は以下の要素から構成される。\n",
        "\n",
        "1. 対象の集まり\n",
        "\n",
        "2. 射の集まり（各射には始点と終点になる対象がある。）\n",
        "\n",
        "3. 射の合成（射fがAからBへ、射gがBからCへの写像を表すならば、その合成g◯fはAからCへの射となる。）\n",
        "\n",
        "4. 各対象において恒等射（単位射）が存在する（対象がAならば、AからA）\n",
        "\n",
        "これらを満たす対象と射の集まりを圏、またはカテゴリーと呼ぶ。"
      ],
      "metadata": {
        "id": "ZTvsLThmFoT8"
      }
    },
    {
      "cell_type": "markdown",
      "source": [
        "## モナド"
      ],
      "metadata": {
        "id": "Dz7XOfsmC-hd"
      }
    },
    {
      "cell_type": "markdown",
      "source": [
        "モナドとは、圏のなかに存在する特定の対象と射の組み合わせの事を言う。\n",
        "また、モナドは自己関手と二項演算から構成される。"
      ],
      "metadata": {
        "id": "47GJV_2GHnD1"
      }
    },
    {
      "cell_type": "markdown",
      "source": [
        "## 関手(Functor)とは"
      ],
      "metadata": {
        "id": "KjndcNL3jovx"
      }
    },
    {
      "cell_type": "markdown",
      "source": [
        "圏を圏にmapすること（移すこと）。\n",
        "\n",
        "つまり、関手は、対象から対象、射から射へのmapする。\n",
        "\n",
        "\n",
        "対象から対象：もしAが一つの圏の対象であれば、関手Fはそれを別の圏の対象F(A)にマップする。\n",
        "\n",
        "射から射：もしfが一つの圏の射であれば、関手Fはそれを別の圏の射F(f)へマップする。\n",
        "![関手](https://drive.google.com/uc?id=1cbcWU55tLAvml9aZiTDoHSnjL-gabYYs)\n",
        "\n",
        "\n",
        "また、関手は射の合成の保存、恒等射の保存の２つの性質を持つ。\n",
        "\n",
        "射の合成の保存：もしfとgが射で、その合成がg◯fであれば、その関手によるmappingも同じ合成を持つ。\n",
        "\n",
        "![圏のmap](https://drive.google.com/uc?id=1OebXcJCYLNaOg_UqBrixt4bauPzCCWtB)"
      ],
      "metadata": {
        "id": "ll8RM4fajymQ"
      }
    },
    {
      "cell_type": "markdown",
      "source": [
        "# 関手の合成"
      ],
      "metadata": {
        "id": "TDtoSHxtFi07"
      }
    },
    {
      "cell_type": "markdown",
      "source": [
        "圏論とは細かいことは気にせず、対象と写さえ考えれば良い。\n",
        "圏をC、D、Eとする。CDEは圏であるため恒等関手が存在する。よって関手の合成は以下のようになる。![関手の合成](https://drive.google.com/uc?id=1J2UzLoIMByr__3L2btuPnR9Z0SCVFCm5)\n",
        "\n",
        "また、関手は結合律を満たす。![関手の結合律](https://drive.google.com/uc?id=1oIHBrnuIS4kLrm_rWSD8fzU-AIc-hJo2)\n",
        "\n",
        "\n"
      ],
      "metadata": {
        "id": "CU8JOfI5FnfO"
      }
    },
    {
      "cell_type": "markdown",
      "source": [
        "# 関手圏"
      ],
      "metadata": {
        "id": "BSBB4MGaM7VA"
      }
    },
    {
      "cell_type": "markdown",
      "source": [
        "# 自己関手の圏"
      ],
      "metadata": {
        "id": "RxRS4TTmRZnT"
      }
    },
    {
      "cell_type": "markdown",
      "source": [
        "自己関手とは自分から自分に持ってくる射である。また恒等写があるため自己関手も合成できる。よって、自己関手自体で圏を定義できる。よって、自己関手の圏の性質として、圏の中に恒等関手と関手の合成が含まれる。その恒等関手と関手の合成をそれぞれ単位元と演算だと捉える。それをモノイドという。"
      ],
      "metadata": {
        "id": "6aJZ1PHzRdcL"
      }
    },
    {
      "cell_type": "markdown",
      "source": [
        "関手が複数あるパターンを考えていく。関手をF.G.Hとおく。そしてF>G,G>Hに自然変換があるとするとそれをα、βと置くことができる。\n",
        "![関手の自然変換](https://drive.google.com/uc?id=1Vusm8MkbgwC6Enu0lQ9FMho4WzHvj7-X)\n",
        "\n",
        "これの意味は中身をのぞいてみると以下のようになる。\n",
        "![関手の自然変換の中身](https://drive.google.com/uc?id=1hYrKDBFG8Vew5CFy_s-HNH2-X3ERHNxc)\n",
        "\n",
        "そして、そのαとβは合成できる。\n",
        "![関手の自然変換の合成](https://drive.google.com/uc?id=1ljZzKynDglCqPA70RCQGVXEFkcVq46b7)\n",
        "\n",
        "よって、自然変換自体も合成できる。つまり、結合率を満たす。\n",
        "![自然変換の垂直合成](https://drive.google.com/uc?id=1ljZzKynDglCqPA70RCQGVXEFkcVq46b7)\n",
        "\n",
        "\n",
        "これらのことから、関手自体を圏とみなすことができる。それを関手圏と定義する。\n",
        "まとめると関手圏は以下の画像の通りになる。\n",
        "![関手圏](https://drive.google.com/uc?id=1ppqglJlSlhtQzU3idT3sdGGZhRZZHnuJ)\n",
        "\n",
        "\n"
      ],
      "metadata": {
        "id": "NoY41n0ZM-fW"
      }
    },
    {
      "cell_type": "markdown",
      "source": [
        "# モノイド"
      ],
      "metadata": {
        "id": "17KO-3yqWCXP"
      }
    },
    {
      "cell_type": "markdown",
      "source": [
        "モノイドの性質は、集合の上に二項演算が存在し、単位元が存在すること。"
      ],
      "metadata": {
        "id": "I-RL73WnWFNf"
      }
    },
    {
      "cell_type": "markdown",
      "source": [
        "モノイドの例は以下の通り"
      ],
      "metadata": {
        "id": "YL-7IUehXYCb"
      }
    },
    {
      "cell_type": "markdown",
      "source": [
        "##(Int,+,0)\n",
        "\n",
        "a+0=a\n",
        "\n",
        "0+a=a\n",
        "\n",
        "(a+b)+c=a+(b+c)"
      ],
      "metadata": {
        "id": "tdqR18jMWcD8"
      }
    },
    {
      "cell_type": "markdown",
      "source": [
        "##(Int,*,1)\n",
        "\n",
        "a*1=a\n",
        "\n",
        "1*a=a\n",
        "\n",
        "(a*b)*c=a*(b*c)"
      ],
      "metadata": {
        "id": "Q_Gqe-4QXbl5"
      }
    },
    {
      "cell_type": "markdown",
      "source": [
        "##(String,+,\"\")\n",
        "\n",
        "a+\"\"=a\n",
        "\n",
        "\"\"+a=a\n",
        "\n",
        "(a+b)+c=a+(b+c)"
      ],
      "metadata": {
        "id": "7IfW6KgMXwLd"
      }
    },
    {
      "cell_type": "markdown",
      "source": [
        "##(Array,+,[])\n",
        "\n",
        "a+[]=a\n",
        "\n",
        "[]+a=a\n",
        "\n",
        "(a+b)+c=a+(b+c)"
      ],
      "metadata": {
        "id": "N11msbyFYGo6"
      }
    },
    {
      "cell_type": "markdown",
      "source": [
        "##(Bool,&&,true)\n",
        "\n",
        "a && true = a\n",
        "\n",
        "true && a = a\n",
        "\n",
        "(a && b) && c = a && (b && c)"
      ],
      "metadata": {
        "id": "WGvPKXFchaEB"
      }
    },
    {
      "cell_type": "markdown",
      "source": [
        "##(Bool,||,false)\n",
        "a || false = a\n",
        "\n",
        "false || a = a\n",
        "(a || b) || c = a || (b || c)"
      ],
      "metadata": {
        "id": "PiH6pQh4h-O2"
      }
    },
    {
      "cell_type": "markdown",
      "source": [
        "##(Int,max,maxBound)\n",
        "\n",
        "max(a,maxBound) = a\n",
        "\n",
        "max(maxBound,a) = a\n",
        "\n",
        "max(max(a,b),c)= max(a,max(b,c))"
      ],
      "metadata": {
        "id": "3Ap0ucq6iO4n"
      }
    },
    {
      "cell_type": "markdown",
      "source": [
        "# モノイド(M,・,e)"
      ],
      "metadata": {
        "id": "1JS6gXy3jh7O"
      }
    },
    {
      "cell_type": "markdown",
      "source": [
        "集合M、二項演算・（ドット）、単位元e∈Mの3つ組(M,・,e)で、以下の条件を満たす。"
      ],
      "metadata": {
        "id": "sHIEKIOujsQA"
      }
    },
    {
      "cell_type": "markdown",
      "source": [
        "##結合律\n",
        "\n",
        "任意のa,b,c∈Mについて(a・b)・c = a・(b・c)\n",
        "\n",
        "##単位元\n",
        "\n",
        "任意のa∈Mについてe・a = a・e = e"
      ],
      "metadata": {
        "id": "-YEQjWA9nUPL"
      }
    },
    {
      "cell_type": "markdown",
      "source": [],
      "metadata": {
        "id": "Vik3sMIrxUm-"
      }
    },
    {
      "cell_type": "markdown",
      "source": [
        "# 圏論におけるモノイド"
      ],
      "metadata": {
        "id": "_Jr0vPeYAaq7"
      }
    },
    {
      "cell_type": "markdown",
      "source": [
        "今まで、モノイドを集合的な考え方として捉えてきた。\n",
        "ここでモノイドを圏論に発展させる。"
      ],
      "metadata": {
        "id": "rAjNGgM-EoCl"
      }
    },
    {
      "cell_type": "markdown",
      "source": [
        "圏論において演算を考える時は集合の中で考えるのではなく外で考える。つまり射を集合の中で考えないということだ。"
      ],
      "metadata": {
        "id": "Ayg_cws7Aghy"
      }
    },
    {
      "cell_type": "markdown",
      "source": [
        "##圏論における足し算を考える"
      ],
      "metadata": {
        "id": "dXg8I1RRLy6Z"
      }
    },
    {
      "cell_type": "markdown",
      "source": [],
      "metadata": {
        "id": "RNMOyyWnL4ZA"
      }
    },
    {
      "cell_type": "markdown",
      "source": [
        "まず、最初に、単位元が0の集合を考える。そこでの足し算を表現するにはどうすれば良いか。![圏論の足し算](https://drive.google.com/uc?id=)\n",
        "\n",
        "（＋）：（Int,Int）　→ Int を射で表現したい時に、集合の中で二項演算するのは圏論ではない。\n",
        "![圏論は集合の中で二項演算しない](https://drive.google.com/uc?id=)\n",
        "\n",
        "そこで集合論のデカルト積を考える。\n",
        "\n",
        "まず、デカルト積とは、２つ以上の集合から成る全ての順序付けられたペア（またはタプル）の集合のことを指す。\n",
        "\n",
        "例えば、A = {1, 2} と B = {a, b} という2つの集合があるとすればこれらのデカルト積（A x B）は {(1, a), (1, b), (2, a), (2, b)} となる。つまり、全ての可能な組み合わせを持つ新しい集合を作る。\n",
        "\n",
        "\n",
        "集合を丸ごとペアにする。そして、タプルのIntからIntへmapする。すると、足し算というのはタプルからIntへ変換すると捉えることができる。![タプルからIntへのマップ](https://drive.google.com/uc?id=)\n",
        "\n",
        "これにより、中で考えるのではなく集合の外で考えることができる。圏論とは外へ外へと考えていくものだから。\n",
        "\n",
        "\n",
        "\n"
      ],
      "metadata": {
        "id": "FOHBAuUPL6bd"
      }
    },
    {
      "cell_type": "markdown",
      "source": [
        "# モノイド対象"
      ],
      "metadata": {
        "id": "fmSAQYHJJGnm"
      }
    },
    {
      "cell_type": "markdown",
      "source": [
        "まず、モノイドとは、ある二項演算が定義されており、その演算が結合即（ (ab)c=a(bc) )を満たし、単位元が存在するような集合のことを指す。\n",
        "\n",
        "次に、モノイド対象の定義を確認する。\n",
        "ある圏Aのモノイド対象は、以下の３つの要素からなる。\n",
        "\n",
        "１.対象M\n",
        "\n",
        "2.射 μ: M × M → M\n",
        "\n",
        "3.射 η: 1 → M"
      ],
      "metadata": {
        "id": "0EmzfrOZJLs6"
      }
    }
  ]
}