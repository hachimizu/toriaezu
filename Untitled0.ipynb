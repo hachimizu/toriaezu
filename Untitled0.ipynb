{
  "nbformat": 4,
  "nbformat_minor": 0,
  "metadata": {
    "colab": {
      "provenance": [],
      "toc_visible": true,
      "authorship_tag": "ABX9TyPaAKVtfaBkBFP8ahTfSu6T",
      "include_colab_link": true
    },
    "kernelspec": {
      "name": "python3",
      "display_name": "Python 3"
    },
    "language_info": {
      "name": "python"
    }
  },
  "cells": [
    {
      "cell_type": "markdown",
      "metadata": {
        "id": "view-in-github",
        "colab_type": "text"
      },
      "source": [
        "<a href=\"https://colab.research.google.com/github/hachimizu/toriaezu/blob/main/Untitled0.ipynb\" target=\"_parent\"><img src=\"https://colab.research.google.com/assets/colab-badge.svg\" alt=\"Open In Colab\"/></a>"
      ]
    },
    {
      "cell_type": "markdown",
      "source": [
        "# 圏論とモナドについて"
      ],
      "metadata": {
        "id": "gJnFAU1sG3D1"
      }
    },
    {
      "cell_type": "markdown",
      "source": [
        "[プログラマのためのモナド入門 稲見 泰宏 | プログラマのためのモナド入門](https://www.youtube.com/watch?v=fhuAlDPgi2Q)\n",
        "\n",
        "この動画を見て圏論とモナドについてまとめようと思います。"
      ],
      "metadata": {
        "id": "e5QHte1ZG82Q"
      }
    },
    {
      "cell_type": "markdown",
      "source": [
        "# モナドとは構造化定理の3つの基本制御構造をもつ"
      ],
      "metadata": {
        "id": "A0EYdklrjLvi"
      }
    },
    {
      "cell_type": "markdown",
      "source": [
        "1.順次(Applicative)プログラムに記された順に、逐次処理を行なっていく"
      ],
      "metadata": {
        "id": "9CMmfWcSjVnZ"
      }
    },
    {
      "cell_type": "markdown",
      "source": [
        "2.反復(Functor)一定の条件が満たされている間処理を繰り返す"
      ],
      "metadata": {
        "id": "YvvaUrznje0s"
      }
    },
    {
      "cell_type": "markdown",
      "source": [
        "3.分岐(Monad)ある条件が成立するなら処理Aを、そうでなければ処理Bを行う"
      ],
      "metadata": {
        "id": "QLc7sC7gjja6"
      }
    },
    {
      "cell_type": "markdown",
      "source": [
        "# 関手(Functor)とは"
      ],
      "metadata": {
        "id": "KjndcNL3jovx"
      }
    },
    {
      "cell_type": "markdown",
      "source": [
        "圏を圏に移すこと。つまり、内部の対象をそのまま移す。もしくは写をそのままに移す。![関手](https://drive.google.com/uc?id=1yiQ9Q30S2SB-Faici2o5U60ECNhTAesn)\n",
        "また以下の図のように右の圏のピンクと緑の写を合成しても左の圏で合成してから右にmapしても結果が同じである。![圏のmap](https://drive.google.com/uc?id=1OebXcJCYLNaOg_UqBrixt4bauPzCCWtB)"
      ],
      "metadata": {
        "id": "ll8RM4fajymQ"
      }
    },
    {
      "cell_type": "markdown",
      "source": [
        "# 関手の合成"
      ],
      "metadata": {
        "id": "TDtoSHxtFi07"
      }
    },
    {
      "cell_type": "markdown",
      "source": [
        "圏論とは細かいことは気にせず、対象と写さえ考えれば良い。\n",
        "圏をC、D、Eとする。CDEは圏であるため恒等関手が存在する。よって関手の合成は以下のようになる。![関手の合成](https://drive.google.com/uc?id=1J2UzLoIMByr__3L2btuPnR9Z0SCVFCm5)\n",
        "\n",
        "また、関手は結合律を満たす。![関手の結合律](https://drive.google.com/uc?id=1oIHBrnuIS4kLrm_rWSD8fzU-AIc-hJo2)\n",
        "\n",
        "\n"
      ],
      "metadata": {
        "id": "CU8JOfI5FnfO"
      }
    },
    {
      "cell_type": "markdown",
      "source": [
        "# 関手圏"
      ],
      "metadata": {
        "id": "BSBB4MGaM7VA"
      }
    },
    {
      "cell_type": "markdown",
      "source": [
        "関手が複数あるパターンを考えていく。関手をF.G.Hとおく。そしてF>G,G>Hに自然変換があるとするとそれをα、βと置くことができる。\n",
        "![関手の自然変換]()\n",
        "\n",
        "これの意味は中身をのぞいてみると以下のようになる。\n",
        "![関手の自然変換の中身]()\n",
        "\n",
        "そして、そのαとβは合成できる。\n",
        "![関手の自然変換の合成]()\n",
        "\n",
        "よって、自然変換自体も合成できる。つまり、結合率を満たす。\n",
        "![自然変換の垂直合成]()\n",
        "\n",
        "\n",
        "これらのことから、関手自体を圏とみなすことができる。それを関手圏と定義する。\n",
        "まとめると関手圏は以下の画像の通りになる。\n",
        "![関手圏]()\n",
        "\n",
        "\n"
      ],
      "metadata": {
        "id": "NoY41n0ZM-fW"
      }
    },
    {
      "cell_type": "markdown",
      "source": [
        "# 自己関手の圏"
      ],
      "metadata": {
        "id": "RxRS4TTmRZnT"
      }
    },
    {
      "cell_type": "markdown",
      "source": [
        "自己関手とは自分から自分に持ってくる写である。また恒等写があるため自己関手も合成できる。よって、自己関手自体で圏を定義できる。よって、自己関手の圏の性質として、圏の中に恒等関手と関手の合成が含まれる。その恒等関手と関手の合成をそれぞれ単位元と演算だと捉える。それをモノイドという。"
      ],
      "metadata": {
        "id": "6aJZ1PHzRdcL"
      }
    },
    {
      "cell_type": "markdown",
      "source": [
        "# モノイド"
      ],
      "metadata": {
        "id": "17KO-3yqWCXP"
      }
    },
    {
      "cell_type": "markdown",
      "source": [
        "モノイドの性質は、集合の上に二項演算が存在し、単位元が存在すること。"
      ],
      "metadata": {
        "id": "I-RL73WnWFNf"
      }
    },
    {
      "cell_type": "markdown",
      "source": [
        "モノイドの例は以下の通り"
      ],
      "metadata": {
        "id": "YL-7IUehXYCb"
      }
    },
    {
      "cell_type": "markdown",
      "source": [
        "(Int,+,0)\n",
        "\n",
        "a+0=a\n",
        "\n",
        "0+a=a\n",
        "\n",
        "(a+b)+c=a+(b+c)"
      ],
      "metadata": {
        "id": "tdqR18jMWcD8"
      }
    },
    {
      "cell_type": "markdown",
      "source": [
        "(Int,*,1)\n",
        "\n",
        "a*1=a\n",
        "\n",
        "1*a=a\n",
        "\n",
        "(a*b)*c=a*(b*c)"
      ],
      "metadata": {
        "id": "Q_Gqe-4QXbl5"
      }
    },
    {
      "cell_type": "markdown",
      "source": [
        "(String,+,\"\")\n",
        "\n",
        "a+\"\"=a\n",
        "\n",
        "\"\"+a=a\n",
        "\n",
        "(a+b)+c=a+(b+c)"
      ],
      "metadata": {
        "id": "7IfW6KgMXwLd"
      }
    },
    {
      "cell_type": "markdown",
      "source": [
        "(Array,+,[])\n",
        "\n",
        "a+[]=a\n",
        "\n",
        "[]+a=a\n",
        "\n",
        "(a+b)+c=a+(b+c)"
      ],
      "metadata": {
        "id": "N11msbyFYGo6"
      }
    },
    {
      "cell_type": "markdown",
      "source": [
        "(Bool,&&,true)\n",
        "\n",
        "a && true = a\n",
        "\n",
        "true && a = a\n",
        "\n",
        "(a && b) && c = a && (b && c)"
      ],
      "metadata": {
        "id": "WGvPKXFchaEB"
      }
    },
    {
      "cell_type": "markdown",
      "source": [
        "(Bool,||,false)\n",
        "a || false = a\n",
        "\n",
        "false || a = a\n",
        "(a || b) || c = a || (b || c)"
      ],
      "metadata": {
        "id": "PiH6pQh4h-O2"
      }
    },
    {
      "cell_type": "markdown",
      "source": [
        "(Int,max,maxBound)\n",
        "\n",
        "max(a,maxBound) = a\n",
        "\n",
        "max(maxBound,a) = a\n",
        "\n",
        "max(max(a,b),c)= max(a,max(b,c))"
      ],
      "metadata": {
        "id": "3Ap0ucq6iO4n"
      }
    }
  ]
}